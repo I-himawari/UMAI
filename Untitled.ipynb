{
 "cells": [
  {
   "cell_type": "code",
   "execution_count": 7,
   "metadata": {},
   "outputs": [
    {
     "name": "stdout",
     "output_type": "stream",
     "text": [
      "味楽亭\n"
     ]
    }
   ],
   "source": [
    "import numpy as np\n",
    "\n",
    "personality_list = [True, False, True, True, True, False, True, False, False]\n",
    "sl = np.loadtxt(\"shop.csv\",delimiter=\",\")\n",
    "personality_table = np.zeros(3)\n",
    "personality_index = [0, 0, 0, 1, 1, 1, 2, 2, 2]\n",
    "personality_index_is_valid = [True, False, True, True, True, False, True, False, False]\n",
    "result_list = [\"マクドナルド\",\"フレッシュネスバーガー\",\"ラーメン二郎\",\"ココイチ\",\"陳麻家\",\"さんるーむ\",\"牛角\",\"くら寿司\",\"モスバーガー\",\"木曽路\",\"サブウェイ\",\"味楽亭\"]\n",
    "\n",
    "for i, v, l in zip(personality_index, personality_index_is_valid, personality_list):\n",
    "    personality_table[i] += v == l  # False（否定すると加算される問題）ならFalse（いいえ）を選択したら加点するようにする。\n",
    "\n",
    "personality_table /= 3  # 0~1に合わせる\n",
    "\n",
    "r = np.sum(np.square(sl - personality_table), axis=1)\n",
    "return result_list[r.argmin()]"
   ]
  }
 ],
 "metadata": {
  "kernelspec": {
   "display_name": "Python 3",
   "language": "python",
   "name": "python3"
  },
  "language_info": {
   "codemirror_mode": {
    "name": "ipython",
    "version": 3
   },
   "file_extension": ".py",
   "mimetype": "text/x-python",
   "name": "python",
   "nbconvert_exporter": "python",
   "pygments_lexer": "ipython3",
   "version": "3.6.4"
  }
 },
 "nbformat": 4,
 "nbformat_minor": 2
}
